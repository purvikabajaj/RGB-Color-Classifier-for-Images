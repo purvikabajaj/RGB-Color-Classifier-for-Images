{
  "nbformat": 4,
  "nbformat_minor": 0,
  "metadata": {
    "colab": {
      "name": "test.ipynb",
      "provenance": []
    },
    "kernelspec": {
      "name": "python3",
      "display_name": "Python 3"
    }
  },
  "cells": [
    {
      "cell_type": "code",
      "metadata": {
        "id": "RFXsPH19OLeX",
        "colab_type": "code",
        "colab": {
          "base_uri": "https://localhost:8080/",
          "height": 54
        },
        "outputId": "4b46f153-03c5-4bcd-b23f-8fc9a74f4d9e"
      },
      "source": [
        "import tensorflow as tf\n",
        "model = tf.keras.models.load_model('RGB_Classify.h5')"
      ],
      "execution_count": 1,
      "outputs": [
        {
          "output_type": "stream",
          "text": [
            "WARNING:tensorflow:Error in loading the saved optimizer state. As a result, your model is starting with a freshly initialized optimizer.\n"
          ],
          "name": "stdout"
        }
      ]
    },
    {
      "cell_type": "code",
      "metadata": {
        "id": "6RZiK1WFOiqx",
        "colab_type": "code",
        "colab": {
          "base_uri": "https://localhost:8080/",
          "height": 224
        },
        "outputId": "b988691a-718c-4b03-f095-f349d3a9a543"
      },
      "source": [
        "!wget https://img.freepik.com/free-vector/gradient-pink-background-with-bokeh-effect_23-2148362564.jpg?size=626&ext=jpg"
      ],
      "execution_count": 2,
      "outputs": [
        {
          "output_type": "stream",
          "text": [
            "--2020-04-05 12:05:59--  https://img.freepik.com/free-vector/gradient-pink-background-with-bokeh-effect_23-2148362564.jpg?size=626\n",
            "Resolving img.freepik.com (img.freepik.com)... 23.36.69.134, 2600:1402:a:286::30ec, 2600:1402:a:29a::30ec\n",
            "Connecting to img.freepik.com (img.freepik.com)|23.36.69.134|:443... connected.\n",
            "HTTP request sent, awaiting response... 200 OK\n",
            "Length: 32425 (32K) [image/jpeg]\n",
            "Saving to: ‘gradient-pink-background-with-bokeh-effect_23-2148362564.jpg?size=626’\n",
            "\n",
            "\r          gradient-   0%[                    ]       0  --.-KB/s               \rgradient-pink-backg 100%[===================>]  31.67K  --.-KB/s    in 0.1s    \n",
            "\n",
            "2020-04-05 12:05:59 (296 KB/s) - ‘gradient-pink-background-with-bokeh-effect_23-2148362564.jpg?size=626’ saved [32425/32425]\n",
            "\n"
          ],
          "name": "stdout"
        }
      ]
    },
    {
      "cell_type": "code",
      "metadata": {
        "id": "PwJtNTsgO62S",
        "colab_type": "code",
        "colab": {}
      },
      "source": [
        "import numpy as np\n",
        "import cv2\n",
        "\n",
        "def predict(path):\n",
        "  img = cv2.imread(path)\n",
        "  img = cv2.resize(img,(84,84))\n",
        "  img = np.expand_dims(img,axis=0)\n",
        "  pred = model.predict(img)\n",
        "  return pred"
      ],
      "execution_count": 0,
      "outputs": []
    },
    {
      "cell_type": "code",
      "metadata": {
        "id": "G3IU_NX0QuCW",
        "colab_type": "code",
        "colab": {
          "base_uri": "https://localhost:8080/",
          "height": 34
        },
        "outputId": "773558d1-f442-4ee2-a692-4eaacc05aa0b"
      },
      "source": [
        "path ='download (1).jpg'\n",
        "pred = predict(path)\n",
        "labels = {2:\"Blue\", 1:\"Green\", 0:\"Red\"}\n",
        "print(labels[np.argmax(pred)])\n"
      ],
      "execution_count": 13,
      "outputs": [
        {
          "output_type": "stream",
          "text": [
            "Red\n"
          ],
          "name": "stdout"
        }
      ]
    },
    {
      "cell_type": "code",
      "metadata": {
        "id": "CTxOG6CHRf7w",
        "colab_type": "code",
        "colab": {}
      },
      "source": [
        ""
      ],
      "execution_count": 0,
      "outputs": []
    }
  ]
}