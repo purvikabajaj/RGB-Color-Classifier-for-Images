{
  "nbformat": 4,
  "nbformat_minor": 0,
  "metadata": {
    "kernelspec": {
      "name": "python3",
      "display_name": "Python 3"
    },
    "language_info": {
      "codemirror_mode": {
        "name": "ipython",
        "version": 3
      },
      "file_extension": ".py",
      "mimetype": "text/x-python",
      "name": "python",
      "nbconvert_exporter": "python",
      "pygments_lexer": "ipython3",
      "version": "3.7.4"
    },
    "colab": {
      "name": "train.ipynb",
      "provenance": [],
      "collapsed_sections": [],
      "toc_visible": true
    },
    "accelerator": "GPU"
  },
  "cells": [
    {
      "cell_type": "code",
      "metadata": {
        "id": "kuDpSbfi3K3o",
        "colab_type": "code",
        "colab": {}
      },
      "source": [
        "import os\n",
        "import cv2\n",
        "import random\n",
        "import numpy as np\n",
        "\n",
        "directory = '/content/drive/My Drive/Internship'    #path to image directory\n",
        "\n",
        "q = 0\n",
        "dataset = []\n",
        "for i in os.scandir(directory):\n",
        "    for j in os.scandir(i.path):\n",
        "        img = cv2.imread(j.path)\n",
        "        img = cv2.resize(img,(84,84))\n",
        "        img = img/255.0\n",
        "        dataset.append([img,q])\n",
        "    q += 1\n",
        "\n",
        "random.shuffle(dataset)\n",
        "\n",
        "x = []\n",
        "y = []\n",
        "for features,labels in dataset:\n",
        "    x.append(features)\n",
        "    y.append(labels)\n",
        "\n",
        "x = np.array(x)\n",
        "y = np.array(y)"
      ],
      "execution_count": 0,
      "outputs": []
    },
    {
      "cell_type": "code",
      "metadata": {
        "id": "TkhHS8OwKt4K",
        "colab_type": "code",
        "colab": {}
      },
      "source": [
        "import tensorflow as tf\n",
        "from tensorflow.keras.models import Sequential\n",
        "from tensorflow.keras.layers import Dense,Conv2D,MaxPooling2D,Flatten,Dropout"
      ],
      "execution_count": 0,
      "outputs": []
    },
    {
      "cell_type": "code",
      "metadata": {
        "id": "Aw8D7qABLG6Y",
        "colab_type": "code",
        "colab": {}
      },
      "source": [
        "model = Sequential([\n",
        "                    Conv2D(64,(3,3),input_shape=(84,84,3),activation='relu'),\n",
        "                    MaxPooling2D((2,2)),\n",
        "                    Dropout(0.2),\n",
        "                    Conv2D(64,(2,2),activation='relu'),\n",
        "                    MaxPooling2D((2,2)),\n",
        "                    Dropout(0.2),\n",
        "                    Conv2D(64,(2,2),activation='relu'),\n",
        "                    MaxPooling2D((2,2)),\n",
        "                    Dropout(0.2),\n",
        "                    Flatten(),\n",
        "                    Dense(64,activation='relu'),\n",
        "                    Dense(3,activation='softmax')\n",
        "])"
      ],
      "execution_count": 0,
      "outputs": []
    },
    {
      "cell_type": "code",
      "metadata": {
        "id": "pboJd-8BL4pe",
        "colab_type": "code",
        "colab": {}
      },
      "source": [
        "model.compile(loss='sparse_categorical_crossentropy',optimizer='adam',metrics=['accuracy'])"
      ],
      "execution_count": 0,
      "outputs": []
    },
    {
      "cell_type": "code",
      "metadata": {
        "id": "tXgZmct0MEag",
        "colab_type": "code",
        "colab": {
          "base_uri": "https://localhost:8080/",
          "height": 411
        },
        "outputId": "95325ad4-0501-4f90-bdf6-a70bb964e949"
      },
      "source": [
        "model.fit(x,y,epochs=10,validation_split=0.2)"
      ],
      "execution_count": 107,
      "outputs": [
        {
          "output_type": "stream",
          "text": [
            "Train on 488 samples, validate on 122 samples\n",
            "Epoch 1/10\n",
            "488/488 [==============================] - 1s 1ms/sample - loss: 0.0278 - accuracy: 0.9898 - val_loss: 0.0023 - val_accuracy: 1.0000\n",
            "Epoch 2/10\n",
            "488/488 [==============================] - 0s 506us/sample - loss: 0.0013 - accuracy: 1.0000 - val_loss: 0.0011 - val_accuracy: 1.0000\n",
            "Epoch 3/10\n",
            "488/488 [==============================] - 0s 506us/sample - loss: 4.7827e-04 - accuracy: 1.0000 - val_loss: 7.4568e-04 - val_accuracy: 1.0000\n",
            "Epoch 4/10\n",
            "488/488 [==============================] - 0s 486us/sample - loss: 3.4534e-04 - accuracy: 1.0000 - val_loss: 8.3321e-04 - val_accuracy: 1.0000\n",
            "Epoch 5/10\n",
            "488/488 [==============================] - 0s 503us/sample - loss: 2.7833e-04 - accuracy: 1.0000 - val_loss: 6.3369e-04 - val_accuracy: 1.0000\n",
            "Epoch 6/10\n",
            "488/488 [==============================] - 0s 498us/sample - loss: 2.8523e-04 - accuracy: 1.0000 - val_loss: 8.3641e-04 - val_accuracy: 1.0000\n",
            "Epoch 7/10\n",
            "488/488 [==============================] - 0s 498us/sample - loss: 3.9271e-04 - accuracy: 1.0000 - val_loss: 4.5818e-04 - val_accuracy: 1.0000\n",
            "Epoch 8/10\n",
            "488/488 [==============================] - 0s 495us/sample - loss: 4.8358e-04 - accuracy: 1.0000 - val_loss: 0.0055 - val_accuracy: 1.0000\n",
            "Epoch 9/10\n",
            "488/488 [==============================] - 0s 506us/sample - loss: 0.0013 - accuracy: 1.0000 - val_loss: 3.9537e-04 - val_accuracy: 1.0000\n",
            "Epoch 10/10\n",
            "488/488 [==============================] - 0s 492us/sample - loss: 0.0012 - accuracy: 1.0000 - val_loss: 0.0193 - val_accuracy: 0.9918\n"
          ],
          "name": "stdout"
        },
        {
          "output_type": "execute_result",
          "data": {
            "text/plain": [
              "<tensorflow.python.keras.callbacks.History at 0x7fe68db33e48>"
            ]
          },
          "metadata": {
            "tags": []
          },
          "execution_count": 107
        }
      ]
    },
    {
      "cell_type": "code",
      "metadata": {
        "id": "zM9iTC9HMHY9",
        "colab_type": "code",
        "colab": {}
      },
      "source": [
        "model.save('RGB_Classify.h5')"
      ],
      "execution_count": 0,
      "outputs": []
    },
    {
      "cell_type": "code",
      "metadata": {
        "id": "tztxTfd6MhJi",
        "colab_type": "code",
        "colab": {}
      },
      "source": [
        ""
      ],
      "execution_count": 0,
      "outputs": []
    }
  ]
}